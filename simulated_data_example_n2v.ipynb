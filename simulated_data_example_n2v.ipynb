{
 "cells": [
  {
   "cell_type": "code",
   "execution_count": 1,
   "metadata": {},
   "outputs": [],
   "source": [
    "import networkx as nx\n",
    "import pandas as pd\n",
    "import nodevectors\n",
    "import random\n",
    "random.seed(123)"
   ]
  },
  {
   "cell_type": "code",
   "execution_count": 2,
   "metadata": {},
   "outputs": [],
   "source": [
    "adj_mat = pd.read_csv(\n",
    "    \"sparse_adj_mat.csv\"\n",
    ")\n",
    "A = adj_mat.values\n",
    "G = nx.from_numpy_matrix(A)"
   ]
  },
  {
   "cell_type": "code",
   "execution_count": 3,
   "metadata": {},
   "outputs": [
    {
     "name": "stdout",
     "output_type": "stream",
     "text": [
      "Making walks... Done, T=5.41\n",
      "Mapping Walk Names... Done, T=7.72\n",
      "Training W2V... Done, T=177.93\n"
     ]
    }
   ],
   "source": [
    "N_COMPONENTS = 5\n",
    "n2v = nodevectors.Node2Vec(\n",
    "    walklen=30, epochs=50,\n",
    "    return_weight=1.,\n",
    "    n_components=N_COMPONENTS\n",
    ")\n",
    "n2vembeds = n2v.fit_transform(G)"
   ]
  },
  {
   "cell_type": "code",
   "execution_count": 4,
   "metadata": {},
   "outputs": [
    {
     "data": {
      "text/html": [
       "<div>\n",
       "<style scoped>\n",
       "    .dataframe tbody tr th:only-of-type {\n",
       "        vertical-align: middle;\n",
       "    }\n",
       "\n",
       "    .dataframe tbody tr th {\n",
       "        vertical-align: top;\n",
       "    }\n",
       "\n",
       "    .dataframe thead th {\n",
       "        text-align: right;\n",
       "    }\n",
       "</style>\n",
       "<table border=\"1\" class=\"dataframe\">\n",
       "  <thead>\n",
       "    <tr style=\"text-align: right;\">\n",
       "      <th></th>\n",
       "      <th>x1</th>\n",
       "      <th>x2</th>\n",
       "      <th>x3</th>\n",
       "      <th>x4</th>\n",
       "      <th>x5</th>\n",
       "    </tr>\n",
       "  </thead>\n",
       "  <tbody>\n",
       "    <tr>\n",
       "      <th>0</th>\n",
       "      <td>-1.116733</td>\n",
       "      <td>2.019736</td>\n",
       "      <td>-0.618493</td>\n",
       "      <td>0.665355</td>\n",
       "      <td>1.013561</td>\n",
       "    </tr>\n",
       "    <tr>\n",
       "      <th>1</th>\n",
       "      <td>-0.981284</td>\n",
       "      <td>1.972672</td>\n",
       "      <td>-0.722622</td>\n",
       "      <td>0.831587</td>\n",
       "      <td>0.755673</td>\n",
       "    </tr>\n",
       "    <tr>\n",
       "      <th>2</th>\n",
       "      <td>-0.881910</td>\n",
       "      <td>1.999836</td>\n",
       "      <td>-0.811159</td>\n",
       "      <td>0.881087</td>\n",
       "      <td>0.744368</td>\n",
       "    </tr>\n",
       "    <tr>\n",
       "      <th>3</th>\n",
       "      <td>-1.432668</td>\n",
       "      <td>2.067614</td>\n",
       "      <td>-0.849284</td>\n",
       "      <td>1.005579</td>\n",
       "      <td>1.021212</td>\n",
       "    </tr>\n",
       "    <tr>\n",
       "      <th>4</th>\n",
       "      <td>-1.199433</td>\n",
       "      <td>2.015539</td>\n",
       "      <td>-1.042786</td>\n",
       "      <td>1.248764</td>\n",
       "      <td>0.665027</td>\n",
       "    </tr>\n",
       "  </tbody>\n",
       "</table>\n",
       "</div>"
      ],
      "text/plain": [
       "         x1        x2        x3        x4        x5\n",
       "0 -1.116733  2.019736 -0.618493  0.665355  1.013561\n",
       "1 -0.981284  1.972672 -0.722622  0.831587  0.755673\n",
       "2 -0.881910  1.999836 -0.811159  0.881087  0.744368\n",
       "3 -1.432668  2.067614 -0.849284  1.005579  1.021212\n",
       "4 -1.199433  2.015539 -1.042786  1.248764  0.665027"
      ]
     },
     "execution_count": 4,
     "metadata": {},
     "output_type": "execute_result"
    }
   ],
   "source": [
    "df_n2v = pd.DataFrame(data = {\n",
    "    \"x1\": [value[0] for value in n2vembeds],\n",
    "    \"x2\": [value[1] for value in n2vembeds],\n",
    "    \"x3\": [value[2] for value in n2vembeds],\n",
    "    \"x4\": [value[3] for value in n2vembeds],\n",
    "    \"x5\": [value[4] for value in n2vembeds]\n",
    "})\n",
    "df_n2v.head()"
   ]
  },
  {
   "cell_type": "code",
   "execution_count": 5,
   "metadata": {},
   "outputs": [],
   "source": [
    "#df_n2v.to_csv('n2v_n5.csv',index=False)"
   ]
  }
 ],
 "metadata": {
  "kernelspec": {
   "display_name": "Python 3",
   "language": "python",
   "name": "python3"
  },
  "language_info": {
   "codemirror_mode": {
    "name": "ipython",
    "version": 3
   },
   "file_extension": ".py",
   "mimetype": "text/x-python",
   "name": "python",
   "nbconvert_exporter": "python",
   "pygments_lexer": "ipython3",
   "version": "3.8.5"
  }
 },
 "nbformat": 4,
 "nbformat_minor": 4
}
