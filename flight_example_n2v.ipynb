{
 "cells": [
  {
   "cell_type": "code",
   "execution_count": 2,
   "metadata": {},
   "outputs": [],
   "source": [
    "import pandas as pd\n",
    "import networkx as nx\n",
    "import nodevectors\n",
    "import random\n",
    "random.seed(123)"
   ]
  },
  {
   "cell_type": "code",
   "execution_count": 3,
   "metadata": {},
   "outputs": [],
   "source": [
    "edgelist = pd.read_csv(\n",
    "    \"20200101_graph.csv\", header=None\n",
    ")\n",
    "G = nx.from_pandas_edgelist(edgelist,0,1)"
   ]
  },
  {
   "cell_type": "code",
   "execution_count": 4,
   "metadata": {},
   "outputs": [
    {
     "name": "stdout",
     "output_type": "stream",
     "text": [
      "Making walks... Done, T=3.57\n",
      "Mapping Walk Names... Done, T=6.22\n",
      "Training W2V... Done, T=262.76\n"
     ]
    }
   ],
   "source": [
    "N_COMPONENTS = 10\n",
    "n2v = nodevectors.Node2Vec(\n",
    "    walklen=30, epochs=50,\n",
    "    return_weight=1.,\n",
    "    n_components=N_COMPONENTS\n",
    ")\n",
    "n2vembeds = n2v.fit(G)"
   ]
  },
  {
   "cell_type": "code",
   "execution_count": 9,
   "metadata": {},
   "outputs": [
    {
     "data": {
      "text/html": [
       "<div>\n",
       "<style scoped>\n",
       "    .dataframe tbody tr th:only-of-type {\n",
       "        vertical-align: middle;\n",
       "    }\n",
       "\n",
       "    .dataframe tbody tr th {\n",
       "        vertical-align: top;\n",
       "    }\n",
       "\n",
       "    .dataframe thead th {\n",
       "        text-align: right;\n",
       "    }\n",
       "</style>\n",
       "<table border=\"1\" class=\"dataframe\">\n",
       "  <thead>\n",
       "    <tr style=\"text-align: right;\">\n",
       "      <th></th>\n",
       "      <th>x1</th>\n",
       "      <th>x2</th>\n",
       "      <th>x3</th>\n",
       "      <th>x4</th>\n",
       "      <th>x5</th>\n",
       "      <th>x6</th>\n",
       "      <th>x7</th>\n",
       "      <th>x8</th>\n",
       "      <th>x9</th>\n",
       "      <th>x10</th>\n",
       "    </tr>\n",
       "  </thead>\n",
       "  <tbody>\n",
       "    <tr>\n",
       "      <th>0</th>\n",
       "      <td>-3.418050</td>\n",
       "      <td>2.451493</td>\n",
       "      <td>1.376649</td>\n",
       "      <td>-0.287384</td>\n",
       "      <td>7.665838</td>\n",
       "      <td>8.843741</td>\n",
       "      <td>11.704518</td>\n",
       "      <td>-13.038505</td>\n",
       "      <td>-5.973073</td>\n",
       "      <td>-0.205185</td>\n",
       "    </tr>\n",
       "    <tr>\n",
       "      <th>1</th>\n",
       "      <td>-0.749318</td>\n",
       "      <td>0.173525</td>\n",
       "      <td>0.940481</td>\n",
       "      <td>-0.249781</td>\n",
       "      <td>0.298460</td>\n",
       "      <td>3.569701</td>\n",
       "      <td>1.328865</td>\n",
       "      <td>-3.066271</td>\n",
       "      <td>-0.970234</td>\n",
       "      <td>-0.741226</td>\n",
       "    </tr>\n",
       "    <tr>\n",
       "      <th>2</th>\n",
       "      <td>3.764046</td>\n",
       "      <td>7.705403</td>\n",
       "      <td>2.641850</td>\n",
       "      <td>-4.020944</td>\n",
       "      <td>-0.776089</td>\n",
       "      <td>-3.721979</td>\n",
       "      <td>-4.592538</td>\n",
       "      <td>11.626396</td>\n",
       "      <td>0.695077</td>\n",
       "      <td>0.049855</td>\n",
       "    </tr>\n",
       "    <tr>\n",
       "      <th>3</th>\n",
       "      <td>6.211458</td>\n",
       "      <td>9.002071</td>\n",
       "      <td>0.432929</td>\n",
       "      <td>-0.792128</td>\n",
       "      <td>-1.435199</td>\n",
       "      <td>-0.356425</td>\n",
       "      <td>-2.962753</td>\n",
       "      <td>8.112611</td>\n",
       "      <td>1.030687</td>\n",
       "      <td>-2.602265</td>\n",
       "    </tr>\n",
       "    <tr>\n",
       "      <th>4</th>\n",
       "      <td>6.691787</td>\n",
       "      <td>4.961661</td>\n",
       "      <td>-1.069031</td>\n",
       "      <td>-0.865383</td>\n",
       "      <td>-1.770705</td>\n",
       "      <td>0.443698</td>\n",
       "      <td>-2.789559</td>\n",
       "      <td>9.475978</td>\n",
       "      <td>0.461880</td>\n",
       "      <td>0.082035</td>\n",
       "    </tr>\n",
       "  </tbody>\n",
       "</table>\n",
       "</div>"
      ],
      "text/plain": [
       "         x1        x2        x3        x4        x5        x6         x7  \\\n",
       "0 -3.418050  2.451493  1.376649 -0.287384  7.665838  8.843741  11.704518   \n",
       "1 -0.749318  0.173525  0.940481 -0.249781  0.298460  3.569701   1.328865   \n",
       "2  3.764046  7.705403  2.641850 -4.020944 -0.776089 -3.721979  -4.592538   \n",
       "3  6.211458  9.002071  0.432929 -0.792128 -1.435199 -0.356425  -2.962753   \n",
       "4  6.691787  4.961661 -1.069031 -0.865383 -1.770705  0.443698  -2.789559   \n",
       "\n",
       "          x8        x9       x10  \n",
       "0 -13.038505 -5.973073 -0.205185  \n",
       "1  -3.066271 -0.970234 -0.741226  \n",
       "2  11.626396  0.695077  0.049855  \n",
       "3   8.112611  1.030687 -2.602265  \n",
       "4   9.475978  0.461880  0.082035  "
      ]
     },
     "execution_count": 9,
     "metadata": {},
     "output_type": "execute_result"
    }
   ],
   "source": [
    "nodes = [n2v.predict(node) for node in G]\n",
    "df = pd.DataFrame(nodes, columns=['x1', 'x2','x3','x4','x5','x6','x7','x8','x9','x10'])\n",
    "df.head()"
   ]
  },
  {
   "cell_type": "code",
   "execution_count": 79,
   "metadata": {},
   "outputs": [],
   "source": [
    "#df.to_csv('20200101_n2v10.csv',index=False)"
   ]
  }
 ],
 "metadata": {
  "kernelspec": {
   "display_name": "Python 3",
   "language": "python",
   "name": "python3"
  },
  "language_info": {
   "codemirror_mode": {
    "name": "ipython",
    "version": 3
   },
   "file_extension": ".py",
   "mimetype": "text/x-python",
   "name": "python",
   "nbconvert_exporter": "python",
   "pygments_lexer": "ipython3",
   "version": "3.8.5"
  }
 },
 "nbformat": 4,
 "nbformat_minor": 4
}
